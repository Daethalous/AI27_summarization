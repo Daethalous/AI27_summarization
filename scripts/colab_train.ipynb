{
  "cells": [
    {
      "cell_type": "markdown",
      "id": "6f8f3d23",
      "metadata": {
        "id": "6f8f3d23"
      },
      "source": [
        "# Colab 环境准备与训练\n",
        "依次运行下面的单元，在 Google Colab 中准备运行环境并启动 `train.py`。"
      ]
    },
    {
      "cell_type": "code",
      "execution_count": null,
      "id": "633ec26d",
      "metadata": {
        "colab": {
          "base_uri": "https://localhost:8080/",
          "height": 373
        },
        "id": "633ec26d",
        "outputId": "30286a23-c731-472f-f412-6388df8a8461"
      },
      "outputs": [
        {
          "ename": "CalledProcessError",
          "evalue": "Command '['git', 'clone', 'https://github.com/<your-account>/summarization.git', '/content/summarization']' returned non-zero exit status 128.",
          "output_type": "error",
          "traceback": [
            "\u001b[0;31m---------------------------------------------------------------------------\u001b[0m",
            "\u001b[0;31mCalledProcessError\u001b[0m                        Traceback (most recent call last)",
            "\u001b[0;32m/tmp/ipython-input-3667816091.py\u001b[0m in \u001b[0;36m<cell line: 0>\u001b[0;34m()\u001b[0m\n\u001b[1;32m     21\u001b[0m     \u001b[0mshutil\u001b[0m\u001b[0;34m.\u001b[0m\u001b[0mrmtree\u001b[0m\u001b[0;34m(\u001b[0m\u001b[0mPROJECT_ROOT\u001b[0m\u001b[0;34m)\u001b[0m\u001b[0;34m\u001b[0m\u001b[0;34m\u001b[0m\u001b[0m\n\u001b[1;32m     22\u001b[0m \u001b[0;34m\u001b[0m\u001b[0m\n\u001b[0;32m---> 23\u001b[0;31m \u001b[0msubprocess\u001b[0m\u001b[0;34m.\u001b[0m\u001b[0mrun\u001b[0m\u001b[0;34m(\u001b[0m\u001b[0;34m[\u001b[0m\u001b[0;34m\"git\"\u001b[0m\u001b[0;34m,\u001b[0m \u001b[0;34m\"clone\"\u001b[0m\u001b[0;34m,\u001b[0m \u001b[0mREPO_URL\u001b[0m\u001b[0;34m,\u001b[0m \u001b[0mstr\u001b[0m\u001b[0;34m(\u001b[0m\u001b[0mPROJECT_ROOT\u001b[0m\u001b[0;34m)\u001b[0m\u001b[0;34m]\u001b[0m\u001b[0;34m,\u001b[0m \u001b[0mcheck\u001b[0m\u001b[0;34m=\u001b[0m\u001b[0;32mTrue\u001b[0m\u001b[0;34m)\u001b[0m\u001b[0;34m\u001b[0m\u001b[0;34m\u001b[0m\u001b[0m\n\u001b[0m\u001b[1;32m     24\u001b[0m \u001b[0mos\u001b[0m\u001b[0;34m.\u001b[0m\u001b[0mchdir\u001b[0m\u001b[0;34m(\u001b[0m\u001b[0mPROJECT_ROOT\u001b[0m\u001b[0;34m)\u001b[0m\u001b[0;34m\u001b[0m\u001b[0;34m\u001b[0m\u001b[0m\n\u001b[1;32m     25\u001b[0m \u001b[0mprint\u001b[0m\u001b[0;34m(\u001b[0m\u001b[0;34mf\"切换到项目目录: {PROJECT_ROOT}\"\u001b[0m\u001b[0;34m)\u001b[0m\u001b[0;34m\u001b[0m\u001b[0;34m\u001b[0m\u001b[0m\n",
            "\u001b[0;32m/usr/lib/python3.12/subprocess.py\u001b[0m in \u001b[0;36mrun\u001b[0;34m(input, capture_output, timeout, check, *popenargs, **kwargs)\u001b[0m\n\u001b[1;32m    569\u001b[0m         \u001b[0mretcode\u001b[0m \u001b[0;34m=\u001b[0m \u001b[0mprocess\u001b[0m\u001b[0;34m.\u001b[0m\u001b[0mpoll\u001b[0m\u001b[0;34m(\u001b[0m\u001b[0;34m)\u001b[0m\u001b[0;34m\u001b[0m\u001b[0;34m\u001b[0m\u001b[0m\n\u001b[1;32m    570\u001b[0m         \u001b[0;32mif\u001b[0m \u001b[0mcheck\u001b[0m \u001b[0;32mand\u001b[0m \u001b[0mretcode\u001b[0m\u001b[0;34m:\u001b[0m\u001b[0;34m\u001b[0m\u001b[0;34m\u001b[0m\u001b[0m\n\u001b[0;32m--> 571\u001b[0;31m             raise CalledProcessError(retcode, process.args,\n\u001b[0m\u001b[1;32m    572\u001b[0m                                      output=stdout, stderr=stderr)\n\u001b[1;32m    573\u001b[0m     \u001b[0;32mreturn\u001b[0m \u001b[0mCompletedProcess\u001b[0m\u001b[0;34m(\u001b[0m\u001b[0mprocess\u001b[0m\u001b[0;34m.\u001b[0m\u001b[0margs\u001b[0m\u001b[0;34m,\u001b[0m \u001b[0mretcode\u001b[0m\u001b[0;34m,\u001b[0m \u001b[0mstdout\u001b[0m\u001b[0;34m,\u001b[0m \u001b[0mstderr\u001b[0m\u001b[0;34m)\u001b[0m\u001b[0;34m\u001b[0m\u001b[0;34m\u001b[0m\u001b[0m\n",
            "\u001b[0;31mCalledProcessError\u001b[0m: Command '['git', 'clone', 'https://github.com/<your-account>/summarization.git', '/content/summarization']' returned non-zero exit status 128."
          ]
        }
      ],
      "source": [
        "# 环境准备：检测 GPU、升级 pip、克隆仓库并安装依赖\n",
        "import pathlib\n",
        "import subprocess\n",
        "import sys\n",
        "\n",
        "try:\n",
        "    subprocess.run([\"nvidia-smi\"], check=True)\n",
        "except FileNotFoundError:\n",
        "    print(\"nvidia-smi 未找到，当前环境可能不支持 GPU\")\n",
        "except subprocess.CalledProcessError:\n",
        "    print(\"nvidia-smi 调用失败，GPU 可能不可用\")\n",
        "\n",
        "REPO_URL = \"https://github.com/Daethalous/AI27_summarization.git\"\n",
        "REPO_NAME = \"AI27_summarization\"\n",
        "repo_path = pathlib.Path(REPO_NAME)\n",
        "\n",
        "if repo_path.exists():\n",
        "    print(f\"仓库已存在于 {repo_path.resolve()}，尝试拉取最新代码...\")\n",
        "    subprocess.run([\"git\", \"-C\", str(repo_path), \"pull\"], check=True)\n",
        "else:\n",
        "    print(f\"正在克隆仓库: {REPO_URL}\")\n",
        "    subprocess.run([\"git\", \"clone\", REPO_URL], check=True)\n",
        "\n",
        "subprocess.run([sys.executable, \"-m\", \"pip\", \"install\", \"--upgrade\", \"pip\"], check=True)\n",
        "\n",
        "requirements_file = repo_path / \"requirements.txt\"\n",
        "if not requirements_file.exists():\n",
        "    raise FileNotFoundError(f\"未找到依赖文件: {requirements_file}\")\n",
        "print(f\"安装依赖: {requirements_file}\")\n",
        "subprocess.run([sys.executable, \"-m\", \"pip\", \"install\", \"-r\", str(requirements_file)], check=True)\n",
        "\n",
        "import torch\n",
        "print(f\"PyTorch 版本: {torch.__version__}\")\n",
        "print(f\"CUDA 是否可用: {torch.cuda.is_available()}\")"
      ]
    },
    {
      "cell_type": "markdown",
      "id": "0f9af750",
      "metadata": {
        "id": "0f9af750"
      },
      "source": [
        "## 启动训练\n",
        "在完成环境准备后，直接导入 `train.py` 的入口函数并启动训练。可根据需要调整配置或启用 Tiny 模式进行快速验证。"
      ]
    },
    {
      "cell_type": "code",
      "execution_count": null,
      "id": "7626e326",
      "metadata": {
        "id": "7626e326"
      },
      "outputs": [],
      "source": [
        "# 运行训练脚本\n",
        "import argparse\n",
        "import os\n",
        "import sys\n",
        "from pathlib import Path\n",
        "\n",
        "PROJECT_ROOT = Path.cwd() / \"AI27_summarization\"\n",
        "if not PROJECT_ROOT.exists():\n",
        "    raise FileNotFoundError(\"未找到 AI27_summarization 仓库，请先运行环境准备单元。\")\n",
        "\n",
        "os.chdir(PROJECT_ROOT)\n",
        "sys.path.insert(0, str(PROJECT_ROOT / \"src\"))\n",
        "\n",
        "from train import main\n",
        "\n",
        "args = argparse.Namespace(\n",
        "    config=\"configs/seq2seq_attn.yaml\",\n",
        "    data_dir=None,\n",
        "    vocab_path=None,\n",
        "    save_dir=\"./checkpoints\",\n",
        "    batch_size=None,\n",
        "    max_src_len=None,\n",
        "    max_tgt_len=None,\n",
        "    epochs=None,\n",
        "    lr=None,\n",
        "    num_workers=2,\n",
        "    dataset_version=None,\n",
        "    auto_download=True,\n",
        "    no_auto_download=False,\n",
        "    )\n",
        "\n",
        "main(args)"
      ]
    }
  ],
  "metadata": {
    "accelerator": "GPU",
    "colab": {
      "gpuType": "A100",
      "provenance": []
    },
    "kernelspec": {
      "display_name": "Python 3",
      "name": "python3"
    },
    "language_info": {
      "name": "python"
    }
  },
  "nbformat": 4,
  "nbformat_minor": 5
}
