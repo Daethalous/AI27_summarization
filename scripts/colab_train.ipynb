{
 "cells": [
  {
   "cell_type": "markdown",
   "id": "6f8f3d23",
   "metadata": {},
   "source": [
    "# Colab 环境准备与训练\n",
    "依次运行下面的单元，在 Google Colab 中准备运行环境并启动 `train.py`。"
   ]
  },
  {
   "cell_type": "code",
   "execution_count": null,
   "id": "633ec26d",
   "metadata": {},
   "outputs": [],
   "source": [
    "# 环境准备：检测 GPU、升级 pip、克隆仓库并安装依赖\n",
    "import os\n",
    "import pathlib\n",
    "import shutil\n",
    "import subprocess\n",
    "import sys\n",
    "\n",
    "try:\n",
    "    subprocess.run([\"nvidia-smi\"], check=True)\n",
    "except FileNotFoundError:\n",
    "    print(\"nvidia-smi 未找到，当前环境可能不支持 GPU\")\n",
    "except subprocess.CalledProcessError:\n",
    "    print(\"nvidia-smi 调用失败，GPU 可能不可用\")\n",
    "\n",
    "subprocess.run([sys.executable, \"-m\", \"pip\", \"install\", \"--upgrade\", \"pip\"], check=True)\n",
    "\n",
    "REPO_URL = os.environ.get(\"SUMMARIZATION_REPO_URL\", \"https://github.com/<your-account>/summarization.git\")\n",
    "PROJECT_ROOT = pathlib.Path(\"/content/summarization\")\n",
    "\n",
    "if PROJECT_ROOT.exists():\n",
    "    shutil.rmtree(PROJECT_ROOT)\n",
    "\n",
    "subprocess.run([\"git\", \"clone\", REPO_URL, str(PROJECT_ROOT)], check=True)\n",
    "os.chdir(PROJECT_ROOT)\n",
    "print(f\"切换到项目目录: {PROJECT_ROOT}\")\n",
    "\n",
    "subprocess.run([sys.executable, \"-m\", \"pip\", \"install\", \"-r\", \"requirements.txt\"], check=True)\n",
    "\n",
    "import torch\n",
    "print(f\"PyTorch 版本: {torch.__version__}\")\n",
    "print(f\"CUDA 是否可用: {torch.cuda.is_available()}\")"
   ]
  },
  {
   "cell_type": "markdown",
   "id": "0f9af750",
   "metadata": {},
   "source": [
    "## 启动训练\n",
    "在完成环境准备后，直接导入 `train.py` 的入口函数并启动训练。可根据需要调整配置或启用 Tiny 模式进行快速验证。"
   ]
  },
  {
   "cell_type": "code",
   "execution_count": null,
   "id": "7626e326",
   "metadata": {},
   "outputs": [],
   "source": [
    "# 运行训练脚本\n",
    "import argparse\n",
    "import sys\n",
    "from pathlib import Path\n",
    "\n",
    "PROJECT_ROOT = Path.cwd()\n",
    "sys.path.insert(0, str(PROJECT_ROOT / \"src\"))\n",
    "\n",
    "from train import main\n",
    "\n",
    "args = argparse.Namespace(\n",
    "    config=\"configs/seq2seq_attn.yaml\",\n",
    "    data_dir=None,\n",
    "    vocab_path=None,\n",
    "    save_dir=\"./checkpoints\",\n",
    "    batch_size=None,\n",
    "    max_src_len=None,\n",
    "    max_tgt_len=None,\n",
    "    epochs=None,\n",
    "    lr=None,\n",
    "    num_workers=2,\n",
    ")\n",
    "\n",
    "main(args)"
   ]
  }
 ],
 "metadata": {
  "language_info": {
   "name": "python"
  }
 },
 "nbformat": 4,
 "nbformat_minor": 5
}
